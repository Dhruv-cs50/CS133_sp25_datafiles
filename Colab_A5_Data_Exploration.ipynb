{
  "cells": [
    {
      "cell_type": "markdown",
      "metadata": {
        "id": "view-in-github",
        "colab_type": "text"
      },
      "source": [
        "<a href=\"https://colab.research.google.com/github/Dhruv-cs50/CS133_sp25_datafiles/blob/main/Colab_A5_Data_Exploration.ipynb\" target=\"_parent\"><img src=\"https://colab.research.google.com/assets/colab-badge.svg\" alt=\"Open In Colab\"/></a>"
      ]
    },
    {
      "cell_type": "markdown",
      "metadata": {
        "id": "iBkOEcnqJ8Kt"
      },
      "source": [
        "## Explorating the Tree of Life\n",
        "\n",
        "<table><tr><td>\n",
        "<img src=\"https://i.guim.co.uk/img/static/sys-images/Guardian/Pix/pictures/2008/04/17/DarwinSketch.article.jpg?width=445&quality=85&auto=format&fit=max&s=c7f89552d12b8495b2b4eb4d7a5bc391\" width=200><a href=\"https://i.guim.co.uk/img/static/sys-images/Guardian/Pix/pictures/2008/04/17/DarwinSketch.article.jpg?width=445&quality=85&auto=format&fit=max&s=c7f89552d12b8495b2b4eb4d7a5bc391\">source</a></td><td><img src=\"http://www.greennature.ca/greennature/taxonomy/tree_of_life.png\" width=300><a href=\"http://www.greennature.ca/greennature/taxonomy/tree_of_life.png\">source</a></td></tr></table>"
      ]
    },
    {
      "cell_type": "markdown",
      "metadata": {
        "id": "zlq_EnyFJ8Kv"
      },
      "source": [
        "In this hands-on exercise, you answer the following questions by using pandas data structures and methods to analyze the eukaryote genome data store in the following tab-delimited file. https://raw.githubusercontent.com/csbfx/advpy122-data/master/euk.tsv"
      ]
    },
    {
      "cell_type": "code",
      "execution_count": 25,
      "metadata": {
        "id": "5ap-dlxTJ8Kw",
        "outputId": "641d1777-f777-4ecf-c0c7-97921b4dbfa4",
        "colab": {
          "base_uri": "https://localhost:8080/",
          "height": 423
        }
      },
      "outputs": [
        {
          "output_type": "execute_result",
          "data": {
            "text/plain": [
              "                         Species   Kingdom           Class   Size (Mb)  \\\n",
              "0     Emiliania huxleyi CCMP1516  Protists  Other Protists  167.676000   \n",
              "1           Arabidopsis thaliana    Plants     Land Plants  119.669000   \n",
              "2                    Glycine max    Plants     Land Plants  979.046000   \n",
              "3            Medicago truncatula    Plants     Land Plants  412.924000   \n",
              "4           Solanum lycopersicum    Plants     Land Plants  828.349000   \n",
              "...                          ...       ...             ...         ...   \n",
              "8297    Saccharomyces cerevisiae     Fungi     Ascomycetes    3.993920   \n",
              "8298    Saccharomyces cerevisiae     Fungi     Ascomycetes    0.586761   \n",
              "8299    Saccharomyces cerevisiae     Fungi     Ascomycetes   12.020400   \n",
              "8300    Saccharomyces cerevisiae     Fungi     Ascomycetes   11.960900   \n",
              "8301    Saccharomyces cerevisiae     Fungi     Ascomycetes   11.820700   \n",
              "\n",
              "          GC% Number of genes Number of proteins  Publication year  \\\n",
              "0        64.5           38549              38554              2013   \n",
              "1     36.0529           38311              48265              2001   \n",
              "2     35.1153           59847              71219              2010   \n",
              "3      34.047           37603              41939              2011   \n",
              "4     35.6991           31200              37660              2010   \n",
              "...       ...             ...                ...               ...   \n",
              "8297     38.2               -                  -              2017   \n",
              "8298  38.5921             155                298              1992   \n",
              "8299  38.2971               -                  -              2018   \n",
              "8300  38.2413               -                  -              2018   \n",
              "8301  38.2536               -                  -              2018   \n",
              "\n",
              "     Assembly status  \n",
              "0           Scaffold  \n",
              "1         Chromosome  \n",
              "2         Chromosome  \n",
              "3         Chromosome  \n",
              "4         Chromosome  \n",
              "...              ...  \n",
              "8297        Scaffold  \n",
              "8298      Chromosome  \n",
              "8299      Chromosome  \n",
              "8300      Chromosome  \n",
              "8301      Chromosome  \n",
              "\n",
              "[8302 rows x 9 columns]"
            ],
            "text/html": [
              "\n",
              "  <div id=\"df-3b490b41-8499-41c7-ad7e-54d859498c8a\" class=\"colab-df-container\">\n",
              "    <div>\n",
              "<style scoped>\n",
              "    .dataframe tbody tr th:only-of-type {\n",
              "        vertical-align: middle;\n",
              "    }\n",
              "\n",
              "    .dataframe tbody tr th {\n",
              "        vertical-align: top;\n",
              "    }\n",
              "\n",
              "    .dataframe thead th {\n",
              "        text-align: right;\n",
              "    }\n",
              "</style>\n",
              "<table border=\"1\" class=\"dataframe\">\n",
              "  <thead>\n",
              "    <tr style=\"text-align: right;\">\n",
              "      <th></th>\n",
              "      <th>Species</th>\n",
              "      <th>Kingdom</th>\n",
              "      <th>Class</th>\n",
              "      <th>Size (Mb)</th>\n",
              "      <th>GC%</th>\n",
              "      <th>Number of genes</th>\n",
              "      <th>Number of proteins</th>\n",
              "      <th>Publication year</th>\n",
              "      <th>Assembly status</th>\n",
              "    </tr>\n",
              "  </thead>\n",
              "  <tbody>\n",
              "    <tr>\n",
              "      <th>0</th>\n",
              "      <td>Emiliania huxleyi CCMP1516</td>\n",
              "      <td>Protists</td>\n",
              "      <td>Other Protists</td>\n",
              "      <td>167.676000</td>\n",
              "      <td>64.5</td>\n",
              "      <td>38549</td>\n",
              "      <td>38554</td>\n",
              "      <td>2013</td>\n",
              "      <td>Scaffold</td>\n",
              "    </tr>\n",
              "    <tr>\n",
              "      <th>1</th>\n",
              "      <td>Arabidopsis thaliana</td>\n",
              "      <td>Plants</td>\n",
              "      <td>Land Plants</td>\n",
              "      <td>119.669000</td>\n",
              "      <td>36.0529</td>\n",
              "      <td>38311</td>\n",
              "      <td>48265</td>\n",
              "      <td>2001</td>\n",
              "      <td>Chromosome</td>\n",
              "    </tr>\n",
              "    <tr>\n",
              "      <th>2</th>\n",
              "      <td>Glycine max</td>\n",
              "      <td>Plants</td>\n",
              "      <td>Land Plants</td>\n",
              "      <td>979.046000</td>\n",
              "      <td>35.1153</td>\n",
              "      <td>59847</td>\n",
              "      <td>71219</td>\n",
              "      <td>2010</td>\n",
              "      <td>Chromosome</td>\n",
              "    </tr>\n",
              "    <tr>\n",
              "      <th>3</th>\n",
              "      <td>Medicago truncatula</td>\n",
              "      <td>Plants</td>\n",
              "      <td>Land Plants</td>\n",
              "      <td>412.924000</td>\n",
              "      <td>34.047</td>\n",
              "      <td>37603</td>\n",
              "      <td>41939</td>\n",
              "      <td>2011</td>\n",
              "      <td>Chromosome</td>\n",
              "    </tr>\n",
              "    <tr>\n",
              "      <th>4</th>\n",
              "      <td>Solanum lycopersicum</td>\n",
              "      <td>Plants</td>\n",
              "      <td>Land Plants</td>\n",
              "      <td>828.349000</td>\n",
              "      <td>35.6991</td>\n",
              "      <td>31200</td>\n",
              "      <td>37660</td>\n",
              "      <td>2010</td>\n",
              "      <td>Chromosome</td>\n",
              "    </tr>\n",
              "    <tr>\n",
              "      <th>...</th>\n",
              "      <td>...</td>\n",
              "      <td>...</td>\n",
              "      <td>...</td>\n",
              "      <td>...</td>\n",
              "      <td>...</td>\n",
              "      <td>...</td>\n",
              "      <td>...</td>\n",
              "      <td>...</td>\n",
              "      <td>...</td>\n",
              "    </tr>\n",
              "    <tr>\n",
              "      <th>8297</th>\n",
              "      <td>Saccharomyces cerevisiae</td>\n",
              "      <td>Fungi</td>\n",
              "      <td>Ascomycetes</td>\n",
              "      <td>3.993920</td>\n",
              "      <td>38.2</td>\n",
              "      <td>-</td>\n",
              "      <td>-</td>\n",
              "      <td>2017</td>\n",
              "      <td>Scaffold</td>\n",
              "    </tr>\n",
              "    <tr>\n",
              "      <th>8298</th>\n",
              "      <td>Saccharomyces cerevisiae</td>\n",
              "      <td>Fungi</td>\n",
              "      <td>Ascomycetes</td>\n",
              "      <td>0.586761</td>\n",
              "      <td>38.5921</td>\n",
              "      <td>155</td>\n",
              "      <td>298</td>\n",
              "      <td>1992</td>\n",
              "      <td>Chromosome</td>\n",
              "    </tr>\n",
              "    <tr>\n",
              "      <th>8299</th>\n",
              "      <td>Saccharomyces cerevisiae</td>\n",
              "      <td>Fungi</td>\n",
              "      <td>Ascomycetes</td>\n",
              "      <td>12.020400</td>\n",
              "      <td>38.2971</td>\n",
              "      <td>-</td>\n",
              "      <td>-</td>\n",
              "      <td>2018</td>\n",
              "      <td>Chromosome</td>\n",
              "    </tr>\n",
              "    <tr>\n",
              "      <th>8300</th>\n",
              "      <td>Saccharomyces cerevisiae</td>\n",
              "      <td>Fungi</td>\n",
              "      <td>Ascomycetes</td>\n",
              "      <td>11.960900</td>\n",
              "      <td>38.2413</td>\n",
              "      <td>-</td>\n",
              "      <td>-</td>\n",
              "      <td>2018</td>\n",
              "      <td>Chromosome</td>\n",
              "    </tr>\n",
              "    <tr>\n",
              "      <th>8301</th>\n",
              "      <td>Saccharomyces cerevisiae</td>\n",
              "      <td>Fungi</td>\n",
              "      <td>Ascomycetes</td>\n",
              "      <td>11.820700</td>\n",
              "      <td>38.2536</td>\n",
              "      <td>-</td>\n",
              "      <td>-</td>\n",
              "      <td>2018</td>\n",
              "      <td>Chromosome</td>\n",
              "    </tr>\n",
              "  </tbody>\n",
              "</table>\n",
              "<p>8302 rows × 9 columns</p>\n",
              "</div>\n",
              "    <div class=\"colab-df-buttons\">\n",
              "\n",
              "  <div class=\"colab-df-container\">\n",
              "    <button class=\"colab-df-convert\" onclick=\"convertToInteractive('df-3b490b41-8499-41c7-ad7e-54d859498c8a')\"\n",
              "            title=\"Convert this dataframe to an interactive table.\"\n",
              "            style=\"display:none;\">\n",
              "\n",
              "  <svg xmlns=\"http://www.w3.org/2000/svg\" height=\"24px\" viewBox=\"0 -960 960 960\">\n",
              "    <path d=\"M120-120v-720h720v720H120Zm60-500h600v-160H180v160Zm220 220h160v-160H400v160Zm0 220h160v-160H400v160ZM180-400h160v-160H180v160Zm440 0h160v-160H620v160ZM180-180h160v-160H180v160Zm440 0h160v-160H620v160Z\"/>\n",
              "  </svg>\n",
              "    </button>\n",
              "\n",
              "  <style>\n",
              "    .colab-df-container {\n",
              "      display:flex;\n",
              "      gap: 12px;\n",
              "    }\n",
              "\n",
              "    .colab-df-convert {\n",
              "      background-color: #E8F0FE;\n",
              "      border: none;\n",
              "      border-radius: 50%;\n",
              "      cursor: pointer;\n",
              "      display: none;\n",
              "      fill: #1967D2;\n",
              "      height: 32px;\n",
              "      padding: 0 0 0 0;\n",
              "      width: 32px;\n",
              "    }\n",
              "\n",
              "    .colab-df-convert:hover {\n",
              "      background-color: #E2EBFA;\n",
              "      box-shadow: 0px 1px 2px rgba(60, 64, 67, 0.3), 0px 1px 3px 1px rgba(60, 64, 67, 0.15);\n",
              "      fill: #174EA6;\n",
              "    }\n",
              "\n",
              "    .colab-df-buttons div {\n",
              "      margin-bottom: 4px;\n",
              "    }\n",
              "\n",
              "    [theme=dark] .colab-df-convert {\n",
              "      background-color: #3B4455;\n",
              "      fill: #D2E3FC;\n",
              "    }\n",
              "\n",
              "    [theme=dark] .colab-df-convert:hover {\n",
              "      background-color: #434B5C;\n",
              "      box-shadow: 0px 1px 3px 1px rgba(0, 0, 0, 0.15);\n",
              "      filter: drop-shadow(0px 1px 2px rgba(0, 0, 0, 0.3));\n",
              "      fill: #FFFFFF;\n",
              "    }\n",
              "  </style>\n",
              "\n",
              "    <script>\n",
              "      const buttonEl =\n",
              "        document.querySelector('#df-3b490b41-8499-41c7-ad7e-54d859498c8a button.colab-df-convert');\n",
              "      buttonEl.style.display =\n",
              "        google.colab.kernel.accessAllowed ? 'block' : 'none';\n",
              "\n",
              "      async function convertToInteractive(key) {\n",
              "        const element = document.querySelector('#df-3b490b41-8499-41c7-ad7e-54d859498c8a');\n",
              "        const dataTable =\n",
              "          await google.colab.kernel.invokeFunction('convertToInteractive',\n",
              "                                                    [key], {});\n",
              "        if (!dataTable) return;\n",
              "\n",
              "        const docLinkHtml = 'Like what you see? Visit the ' +\n",
              "          '<a target=\"_blank\" href=https://colab.research.google.com/notebooks/data_table.ipynb>data table notebook</a>'\n",
              "          + ' to learn more about interactive tables.';\n",
              "        element.innerHTML = '';\n",
              "        dataTable['output_type'] = 'display_data';\n",
              "        await google.colab.output.renderOutput(dataTable, element);\n",
              "        const docLink = document.createElement('div');\n",
              "        docLink.innerHTML = docLinkHtml;\n",
              "        element.appendChild(docLink);\n",
              "      }\n",
              "    </script>\n",
              "  </div>\n",
              "\n",
              "\n",
              "<div id=\"df-f80d5fde-b220-434f-a373-56587f752dda\">\n",
              "  <button class=\"colab-df-quickchart\" onclick=\"quickchart('df-f80d5fde-b220-434f-a373-56587f752dda')\"\n",
              "            title=\"Suggest charts\"\n",
              "            style=\"display:none;\">\n",
              "\n",
              "<svg xmlns=\"http://www.w3.org/2000/svg\" height=\"24px\"viewBox=\"0 0 24 24\"\n",
              "     width=\"24px\">\n",
              "    <g>\n",
              "        <path d=\"M19 3H5c-1.1 0-2 .9-2 2v14c0 1.1.9 2 2 2h14c1.1 0 2-.9 2-2V5c0-1.1-.9-2-2-2zM9 17H7v-7h2v7zm4 0h-2V7h2v10zm4 0h-2v-4h2v4z\"/>\n",
              "    </g>\n",
              "</svg>\n",
              "  </button>\n",
              "\n",
              "<style>\n",
              "  .colab-df-quickchart {\n",
              "      --bg-color: #E8F0FE;\n",
              "      --fill-color: #1967D2;\n",
              "      --hover-bg-color: #E2EBFA;\n",
              "      --hover-fill-color: #174EA6;\n",
              "      --disabled-fill-color: #AAA;\n",
              "      --disabled-bg-color: #DDD;\n",
              "  }\n",
              "\n",
              "  [theme=dark] .colab-df-quickchart {\n",
              "      --bg-color: #3B4455;\n",
              "      --fill-color: #D2E3FC;\n",
              "      --hover-bg-color: #434B5C;\n",
              "      --hover-fill-color: #FFFFFF;\n",
              "      --disabled-bg-color: #3B4455;\n",
              "      --disabled-fill-color: #666;\n",
              "  }\n",
              "\n",
              "  .colab-df-quickchart {\n",
              "    background-color: var(--bg-color);\n",
              "    border: none;\n",
              "    border-radius: 50%;\n",
              "    cursor: pointer;\n",
              "    display: none;\n",
              "    fill: var(--fill-color);\n",
              "    height: 32px;\n",
              "    padding: 0;\n",
              "    width: 32px;\n",
              "  }\n",
              "\n",
              "  .colab-df-quickchart:hover {\n",
              "    background-color: var(--hover-bg-color);\n",
              "    box-shadow: 0 1px 2px rgba(60, 64, 67, 0.3), 0 1px 3px 1px rgba(60, 64, 67, 0.15);\n",
              "    fill: var(--button-hover-fill-color);\n",
              "  }\n",
              "\n",
              "  .colab-df-quickchart-complete:disabled,\n",
              "  .colab-df-quickchart-complete:disabled:hover {\n",
              "    background-color: var(--disabled-bg-color);\n",
              "    fill: var(--disabled-fill-color);\n",
              "    box-shadow: none;\n",
              "  }\n",
              "\n",
              "  .colab-df-spinner {\n",
              "    border: 2px solid var(--fill-color);\n",
              "    border-color: transparent;\n",
              "    border-bottom-color: var(--fill-color);\n",
              "    animation:\n",
              "      spin 1s steps(1) infinite;\n",
              "  }\n",
              "\n",
              "  @keyframes spin {\n",
              "    0% {\n",
              "      border-color: transparent;\n",
              "      border-bottom-color: var(--fill-color);\n",
              "      border-left-color: var(--fill-color);\n",
              "    }\n",
              "    20% {\n",
              "      border-color: transparent;\n",
              "      border-left-color: var(--fill-color);\n",
              "      border-top-color: var(--fill-color);\n",
              "    }\n",
              "    30% {\n",
              "      border-color: transparent;\n",
              "      border-left-color: var(--fill-color);\n",
              "      border-top-color: var(--fill-color);\n",
              "      border-right-color: var(--fill-color);\n",
              "    }\n",
              "    40% {\n",
              "      border-color: transparent;\n",
              "      border-right-color: var(--fill-color);\n",
              "      border-top-color: var(--fill-color);\n",
              "    }\n",
              "    60% {\n",
              "      border-color: transparent;\n",
              "      border-right-color: var(--fill-color);\n",
              "    }\n",
              "    80% {\n",
              "      border-color: transparent;\n",
              "      border-right-color: var(--fill-color);\n",
              "      border-bottom-color: var(--fill-color);\n",
              "    }\n",
              "    90% {\n",
              "      border-color: transparent;\n",
              "      border-bottom-color: var(--fill-color);\n",
              "    }\n",
              "  }\n",
              "</style>\n",
              "\n",
              "  <script>\n",
              "    async function quickchart(key) {\n",
              "      const quickchartButtonEl =\n",
              "        document.querySelector('#' + key + ' button');\n",
              "      quickchartButtonEl.disabled = true;  // To prevent multiple clicks.\n",
              "      quickchartButtonEl.classList.add('colab-df-spinner');\n",
              "      try {\n",
              "        const charts = await google.colab.kernel.invokeFunction(\n",
              "            'suggestCharts', [key], {});\n",
              "      } catch (error) {\n",
              "        console.error('Error during call to suggestCharts:', error);\n",
              "      }\n",
              "      quickchartButtonEl.classList.remove('colab-df-spinner');\n",
              "      quickchartButtonEl.classList.add('colab-df-quickchart-complete');\n",
              "    }\n",
              "    (() => {\n",
              "      let quickchartButtonEl =\n",
              "        document.querySelector('#df-f80d5fde-b220-434f-a373-56587f752dda button');\n",
              "      quickchartButtonEl.style.display =\n",
              "        google.colab.kernel.accessAllowed ? 'block' : 'none';\n",
              "    })();\n",
              "  </script>\n",
              "</div>\n",
              "\n",
              "  <div id=\"id_0a1fd96e-242d-40cf-8664-db384b3cb833\">\n",
              "    <style>\n",
              "      .colab-df-generate {\n",
              "        background-color: #E8F0FE;\n",
              "        border: none;\n",
              "        border-radius: 50%;\n",
              "        cursor: pointer;\n",
              "        display: none;\n",
              "        fill: #1967D2;\n",
              "        height: 32px;\n",
              "        padding: 0 0 0 0;\n",
              "        width: 32px;\n",
              "      }\n",
              "\n",
              "      .colab-df-generate:hover {\n",
              "        background-color: #E2EBFA;\n",
              "        box-shadow: 0px 1px 2px rgba(60, 64, 67, 0.3), 0px 1px 3px 1px rgba(60, 64, 67, 0.15);\n",
              "        fill: #174EA6;\n",
              "      }\n",
              "\n",
              "      [theme=dark] .colab-df-generate {\n",
              "        background-color: #3B4455;\n",
              "        fill: #D2E3FC;\n",
              "      }\n",
              "\n",
              "      [theme=dark] .colab-df-generate:hover {\n",
              "        background-color: #434B5C;\n",
              "        box-shadow: 0px 1px 3px 1px rgba(0, 0, 0, 0.15);\n",
              "        filter: drop-shadow(0px 1px 2px rgba(0, 0, 0, 0.3));\n",
              "        fill: #FFFFFF;\n",
              "      }\n",
              "    </style>\n",
              "    <button class=\"colab-df-generate\" onclick=\"generateWithVariable('euk')\"\n",
              "            title=\"Generate code using this dataframe.\"\n",
              "            style=\"display:none;\">\n",
              "\n",
              "  <svg xmlns=\"http://www.w3.org/2000/svg\" height=\"24px\"viewBox=\"0 0 24 24\"\n",
              "       width=\"24px\">\n",
              "    <path d=\"M7,19H8.4L18.45,9,17,7.55,7,17.6ZM5,21V16.75L18.45,3.32a2,2,0,0,1,2.83,0l1.4,1.43a1.91,1.91,0,0,1,.58,1.4,1.91,1.91,0,0,1-.58,1.4L9.25,21ZM18.45,9,17,7.55Zm-12,3A5.31,5.31,0,0,0,4.9,8.1,5.31,5.31,0,0,0,1,6.5,5.31,5.31,0,0,0,4.9,4.9,5.31,5.31,0,0,0,6.5,1,5.31,5.31,0,0,0,8.1,4.9,5.31,5.31,0,0,0,12,6.5,5.46,5.46,0,0,0,6.5,12Z\"/>\n",
              "  </svg>\n",
              "    </button>\n",
              "    <script>\n",
              "      (() => {\n",
              "      const buttonEl =\n",
              "        document.querySelector('#id_0a1fd96e-242d-40cf-8664-db384b3cb833 button.colab-df-generate');\n",
              "      buttonEl.style.display =\n",
              "        google.colab.kernel.accessAllowed ? 'block' : 'none';\n",
              "\n",
              "      buttonEl.onclick = () => {\n",
              "        google.colab.notebook.generateWithVariable('euk');\n",
              "      }\n",
              "      })();\n",
              "    </script>\n",
              "  </div>\n",
              "\n",
              "    </div>\n",
              "  </div>\n"
            ],
            "application/vnd.google.colaboratory.intrinsic+json": {
              "type": "dataframe",
              "variable_name": "euk",
              "summary": "{\n  \"name\": \"euk\",\n  \"rows\": 8302,\n  \"fields\": [\n    {\n      \"column\": \"Species\",\n      \"properties\": {\n        \"dtype\": \"string\",\n        \"num_unique_values\": 4936,\n        \"samples\": [\n          \"Mrakia blollopis\",\n          \"Toxoplasma gondii TgCATBr5\",\n          \"Drosophila grimshawi\"\n        ],\n        \"semantic_type\": \"\",\n        \"description\": \"\"\n      }\n    },\n    {\n      \"column\": \"Kingdom\",\n      \"properties\": {\n        \"dtype\": \"category\",\n        \"num_unique_values\": 5,\n        \"samples\": [\n          \"Plants\",\n          \"Other\",\n          \"Fungi\"\n        ],\n        \"semantic_type\": \"\",\n        \"description\": \"\"\n      }\n    },\n    {\n      \"column\": \"Class\",\n      \"properties\": {\n        \"dtype\": \"category\",\n        \"num_unique_values\": 19,\n        \"samples\": [\n          \"Other Protists\",\n          \"Apicomplexans\",\n          \"Mammals\"\n        ],\n        \"semantic_type\": \"\",\n        \"description\": \"\"\n      }\n    },\n    {\n      \"column\": \"Size (Mb)\",\n      \"properties\": {\n        \"dtype\": \"number\",\n        \"std\": 1111.5382890873323,\n        \"min\": 0.011236,\n        \"max\": 32396.4,\n        \"num_unique_values\": 8203,\n        \"samples\": [\n          42.713,\n          4.9454,\n          43.5021\n        ],\n        \"semantic_type\": \"\",\n        \"description\": \"\"\n      }\n    },\n    {\n      \"column\": \"GC%\",\n      \"properties\": {\n        \"dtype\": \"category\",\n        \"num_unique_values\": 1857,\n        \"samples\": [\n          \"27.9\",\n          \"36.7747\",\n          \"40.1912\"\n        ],\n        \"semantic_type\": \"\",\n        \"description\": \"\"\n      }\n    },\n    {\n      \"column\": \"Number of genes\",\n      \"properties\": {\n        \"dtype\": \"category\",\n        \"num_unique_values\": 2239,\n        \"samples\": [\n          \"17642\",\n          \"40259\",\n          \"8569\"\n        ],\n        \"semantic_type\": \"\",\n        \"description\": \"\"\n      }\n    },\n    {\n      \"column\": \"Number of proteins\",\n      \"properties\": {\n        \"dtype\": \"category\",\n        \"num_unique_values\": 2214,\n        \"samples\": [\n          \"19503\",\n          \"11966\",\n          \"11491\"\n        ],\n        \"semantic_type\": \"\",\n        \"description\": \"\"\n      }\n    },\n    {\n      \"column\": \"Publication year\",\n      \"properties\": {\n        \"dtype\": \"number\",\n        \"std\": 2,\n        \"min\": 1992,\n        \"max\": 2019,\n        \"num_unique_values\": 23,\n        \"samples\": [\n          2008,\n          2003,\n          2013\n        ],\n        \"semantic_type\": \"\",\n        \"description\": \"\"\n      }\n    },\n    {\n      \"column\": \"Assembly status\",\n      \"properties\": {\n        \"dtype\": \"category\",\n        \"num_unique_values\": 4,\n        \"samples\": [\n          \"Chromosome\",\n          \"Contig\",\n          \"Scaffold\"\n        ],\n        \"semantic_type\": \"\",\n        \"description\": \"\"\n      }\n    }\n  ]\n}"
            }
          },
          "metadata": {},
          "execution_count": 25
        }
      ],
      "source": [
        "import pandas as pd\n",
        "%matplotlib inline\n",
        "\n",
        "# this input file is tab-delimited instead of comma-delimited\n",
        "tsvFile = \"https://raw.githubusercontent.com/csbfx/advpy122-data/master/euk.tsv\"\n",
        "# Load the csv file into a dataframe\n",
        "euk = pd.read_csv(tsvFile, sep=\"\\t\")\n",
        "euk"
      ]
    },
    {
      "cell_type": "markdown",
      "metadata": {
        "id": "8Z2GVGoBJ8Ky"
      },
      "source": [
        "## Q1. How many Mammals have at least 20,000 genes? What are their scientific names?\n",
        "*Note:*\n",
        "- *Mammals are under Class*\n",
        "- *Scientific names are under Species*\n"
      ]
    },
    {
      "cell_type": "code",
      "execution_count": 26,
      "metadata": {
        "id": "hmDqV-67J8Ky",
        "colab": {
          "base_uri": "https://localhost:8080/"
        },
        "outputId": "ac9e8f7a-70db-4588-e8d7-2595dc353fa4"
      },
      "outputs": [
        {
          "output_type": "stream",
          "name": "stdout",
          "text": [
            "Index(['Species', 'Kingdom', 'Class', 'Size (Mb)', 'GC%', 'Number of genes',\n",
            "       'Number of proteins', 'Publication year', 'Assembly status'],\n",
            "      dtype='object')\n",
            "Number of mammals with at least 20,000 genes: 0\n",
            "Scientific names of these mammals:\n"
          ]
        }
      ],
      "source": [
        "import pandas as pd\n",
        "\n",
        "# Load the TSV file into a DataFrame\n",
        "tsv_url = \"https://raw.githubusercontent.com/csbfx/advpy122-data/master/euk.tsv\"\n",
        "euk_df = pd.read_csv(tsv_url, sep=\"\\t\")\n",
        "\n",
        "# Strip whitespace from column names\n",
        "euk_df.columns = euk_df.columns.str.strip()\n",
        "\n",
        "# Display the cleaned column names\n",
        "print(euk_df.columns)\n",
        "\n",
        "# Replace non-numeric values in 'Number of genes' with NaN and convert to float\n",
        "euk_df['Number of genes'] = pd.to_numeric(euk_df['Number of genes'].replace('-', 'NaN'), errors='coerce')\n",
        "\n",
        "# Filter the DataFrame to include only mammals with at least 20,000 genes\n",
        "mammals_with_genes = euk_df[(euk_df['Class'].str.strip() == 'Mammalia') & (euk_df['Number of genes'] >= 20000)]\n",
        "\n",
        "# Count the number of mammals meeting the criteria\n",
        "num_mammals = len(mammals_with_genes)\n",
        "\n",
        "# Get the scientific names of these mammals\n",
        "scientific_names = mammals_with_genes['Species'].tolist()\n",
        "\n",
        "print(f\"Number of mammals with at least 20,000 genes: {num_mammals}\")\n",
        "print(\"Scientific names of these mammals:\")\n",
        "for name in scientific_names:\n",
        "    print(name)\n"
      ]
    },
    {
      "cell_type": "markdown",
      "metadata": {
        "id": "rGumzDISJ8Kz"
      },
      "source": [
        "### Q2. Animals are a part of Kingdom. How many records are there for each Class of Animals?"
      ]
    },
    {
      "cell_type": "code",
      "execution_count": 22,
      "metadata": {
        "id": "32JhePXNJ8K0",
        "colab": {
          "base_uri": "https://localhost:8080/"
        },
        "outputId": "f96f406d-d314-4793-8bdc-993adbe527a1"
      },
      "outputs": [
        {
          "output_type": "stream",
          "name": "stdout",
          "text": [
            "Series([], dtype: int64)\n"
          ]
        }
      ],
      "source": [
        "# Your code here . . .\n",
        "animals = euk_df[euk_df['Kingdom'] == 'Animalia']\n",
        "\n",
        "# Group by 'Class' and count the number of records in each class\n",
        "class_counts = animals.groupby('Class').size()\n",
        "\n",
        "print(class_counts)"
      ]
    },
    {
      "cell_type": "markdown",
      "metadata": {
        "id": "CVl99HmAJ8K0"
      },
      "source": [
        "### Q3. Animals are a part of Kingdom. How many unique Species are there for each Class of Animals?"
      ]
    },
    {
      "cell_type": "code",
      "execution_count": 27,
      "metadata": {
        "id": "k21_L0DxJ8K1",
        "colab": {
          "base_uri": "https://localhost:8080/"
        },
        "outputId": "99b6f8d5-92e6-4def-e569-f0deaec8ac23"
      },
      "outputs": [
        {
          "output_type": "stream",
          "name": "stdout",
          "text": [
            "Number of unique species per class within the animal kingdom:\n",
            "Series([], Name: Species, dtype: int64)\n"
          ]
        }
      ],
      "source": [
        "euk_df.columns = euk_df.columns.str.strip()\n",
        "\n",
        "# Filter the DataFrame for entries where the 'Kingdom' is 'Animalia'\n",
        "animals = euk_df[euk_df['Kingdom'].str.strip() == 'Animalia']\n",
        "\n",
        "# Group by 'Class' and count unique 'Species'\n",
        "unique_species_per_class = animals.groupby('Class')['Species'].nunique()\n",
        "\n",
        "print(\"Number of unique species per class within the animal kingdom:\")\n",
        "print(unique_species_per_class)\n"
      ]
    },
    {
      "cell_type": "markdown",
      "metadata": {
        "id": "GM7drElwJ8K2"
      },
      "source": [
        "### Q4. What are the unique scientific names of Mammals with the genus name Macaca?\n",
        "*Recall: the scientific name starts with genus followed by a space and then the species name. Example: Homo sapiens, where Homo is the genus name and sapiens is the species name.*"
      ]
    },
    {
      "cell_type": "code",
      "execution_count": 28,
      "metadata": {
        "id": "p201a7g3J8K2",
        "colab": {
          "base_uri": "https://localhost:8080/"
        },
        "outputId": "1cec9c9c-0265-49ee-e3c7-d0d618a1824d"
      },
      "outputs": [
        {
          "output_type": "stream",
          "name": "stdout",
          "text": [
            "Unique scientific names of mammals with the genus 'Macaca':\n"
          ]
        }
      ],
      "source": [
        "euk_df.columns = euk_df.columns.str.strip()\n",
        "\n",
        "# Filter the DataFrame to include only mammals\n",
        "mammals = euk_df[euk_df['Class'].str.strip() == 'Mammalia']\n",
        "\n",
        "# Find unique species where the genus is 'Macaca'\n",
        "macaca_species = mammals[mammals['Species'].str.startswith('Macaca')]['Species'].unique()\n",
        "\n",
        "print(\"Unique scientific names of mammals with the genus 'Macaca':\")\n",
        "for species in macaca_species:\n",
        "    print(species)"
      ]
    },
    {
      "cell_type": "markdown",
      "metadata": {
        "id": "E0xOV7Q5J8K3"
      },
      "source": [
        "### Q5. Modify the Species names to only contain the scientific names  and create a new dataframe.\n",
        "\n",
        "Some of the names in the Species column have more than two parts, such as `Emiliania huxleyi CCMP1516`. Create a new column `Species` that contains only the first two parts of name, such as `Emiliania huxleyi`. Combine this new Species column with `Kingdom`, `Class`, `Size (Mb)`, `Number of genes`, and `Number of proteins` and store this new dataframe as `df_species`.\n",
        "\n",
        "Hint: Follow Q3 in Lecture 4 with a little twist. Instead of just getting the first element from the split results, you will get the first two elements using `.str[0:2]` which will give you a list. You can then use `.str.join(\" \")` to change it back to a string."
      ]
    },
    {
      "cell_type": "code",
      "execution_count": 29,
      "metadata": {
        "scrolled": true,
        "id": "y5fftb5nJ8K3",
        "colab": {
          "base_uri": "https://localhost:8080/"
        },
        "outputId": "d14288ea-35f1-4218-e5eb-65bb535a7eb7"
      },
      "outputs": [
        {
          "output_type": "stream",
          "name": "stdout",
          "text": [
            "    Kingdom           Class  Size (Mb)  Number of genes Number of proteins  \\\n",
            "0  Protists  Other Protists    167.676          38549.0              38554   \n",
            "1    Plants     Land Plants    119.669          38311.0              48265   \n",
            "2    Plants     Land Plants    979.046          59847.0              71219   \n",
            "3    Plants     Land Plants    412.924          37603.0              41939   \n",
            "4    Plants     Land Plants    828.349          31200.0              37660   \n",
            "\n",
            "                Species  \n",
            "0     Emiliania huxleyi  \n",
            "1  Arabidopsis thaliana  \n",
            "2           Glycine max  \n",
            "3   Medicago truncatula  \n",
            "4  Solanum lycopersicum  \n"
          ]
        },
        {
          "output_type": "stream",
          "name": "stderr",
          "text": [
            "<ipython-input-29-ad1a4dbc5c1d>:11: SettingWithCopyWarning: \n",
            "A value is trying to be set on a copy of a slice from a DataFrame\n",
            "\n",
            "See the caveats in the documentation: https://pandas.pydata.org/pandas-docs/stable/user_guide/indexing.html#returning-a-view-versus-a-copy\n",
            "  df_species.rename(columns={'Species_simplified': 'Species'}, inplace=True)\n"
          ]
        }
      ],
      "source": [
        "# Your code here . . .\n",
        "euk_df.columns = euk_df.columns.str.strip()\n",
        "\n",
        "# Split the 'Species' column and keep only the first two parts\n",
        "euk_df['Species_simplified'] = euk_df['Species'].str.split().str[0:2].str.join(\" \")\n",
        "\n",
        "# Select the columns needed for the new DataFrame\n",
        "df_species = euk_df[['Kingdom', 'Class', 'Size (Mb)', 'Number of genes', 'Number of proteins', 'Species_simplified']]\n",
        "\n",
        "# Rename the simplified species column back to 'Species' for consistency\n",
        "df_species.rename(columns={'Species_simplified': 'Species'}, inplace=True)\n",
        "\n",
        "# Display the new DataFrame\n",
        "print(df_species.head())"
      ]
    },
    {
      "cell_type": "markdown",
      "metadata": {
        "id": "scEqHzdtJ8K4"
      },
      "source": [
        "### Q6. Create a pie plot using pandas to show the number of unique Species in each Class of Animals using the new dataframe you created in Q5\n",
        "Hint: First, create a new dataframe that contains the number of unique Species and the index is the corresponding Animals Class. Then, use that dataframe to plot the pie plot.\n",
        "[Check out this documentation](https://pandas.pydata.org/pandas-docs/stable/reference/api/pandas.DataFrame.plot.pie.html)"
      ]
    },
    {
      "cell_type": "code",
      "execution_count": 30,
      "metadata": {
        "id": "J68Euje-J8K5",
        "colab": {
          "base_uri": "https://localhost:8080/",
          "height": 675
        },
        "outputId": "764d725a-7e34-4a9b-ff81-775b2c091de8"
      },
      "outputs": [
        {
          "output_type": "display_data",
          "data": {
            "text/plain": [
              "<Figure size 1000x800 with 1 Axes>"
            ],
            "image/png": "[encoded data removed]"
          },
          "metadata": {}
        }
      ],
      "source": [
        "# Create a new dataframe that contains the number of unique Species and\n",
        "# the index is the corresponding Animals Class.\n",
        "\n",
        "# Your code here . . .\n",
        "import pandas as pd\n",
        "import matplotlib.pyplot as plt\n",
        "\n",
        "# Assuming the DataFrame 'df_species' has already been created as described in the previous question\n",
        "\n",
        "# Filter the DataFrame for entries where the Kingdom is 'Animalia'\n",
        "animal_df = df_species[df_species['Kingdom'] == 'Animalia']\n",
        "\n",
        "# Group by 'Class' and count unique 'Species'\n",
        "unique_species_per_class = animal_df.groupby('Class')['Species'].nunique()\n",
        "\n",
        "# Create a DataFrame for the pie plot\n",
        "df_pie = pd.DataFrame({'Unique Species': unique_species_per_class})\n",
        "df_pie.index.name = 'Class'\n",
        "\n",
        "# Plotting\n",
        "plt.figure(figsize=(10, 8))\n",
        "df_pie['Unique Species'].plot(kind='pie', autopct='%1.1f%%')\n",
        "plt.title('Number of Unique Species in Each Animal Class')\n",
        "plt.ylabel('')  # Remove the y-label as it's not necessary for pie charts\n",
        "plt.show()\n"
      ]
    },
    {
      "cell_type": "code",
      "execution_count": null,
      "metadata": {
        "id": "E6z0SAooJ8K5"
      },
      "outputs": [],
      "source": [
        "# Create a panda pie plot using the dataframe above\n",
        "\n",
        "# Your code here . . ."
      ]
    }
  ],
  "metadata": {
    "kernelspec": {
      "display_name": "Python 3",
      "language": "python",
      "name": "python3"
    },
    "language_info": {
      "codemirror_mode": {
        "name": "ipython",
        "version": 3
      },
      "file_extension": ".py",
      "mimetype": "text/x-python",
      "name": "python",
      "nbconvert_exporter": "python",
      "pygments_lexer": "ipython3",
      "version": "3.7.6"
    },
    "colab": {
      "provenance": [],
      "include_colab_link": true
    }
  },
  "nbformat": 4,
  "nbformat_minor": 0
}